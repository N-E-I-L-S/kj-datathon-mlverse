{
 "cells": [
  {
   "cell_type": "code",
   "execution_count": null,
   "metadata": {},
   "outputs": [],
   "source": [
    "import random\n",
    "from transformers import AutoTokenizer, AutoModelForSeq2SeqLM\n",
    "document =''\n",
    "tokenizer = AutoTokenizer.from_pretrained(\"p208p2002/bart-squad-qg-hl\")\n",
    "model = AutoModelForSeq2SeqLM.from_pretrained(\"p208p2002/bart-squad-qg-hl\")\n",
    "actual_answers = []\n",
    "\n",
    "def generate_random_questions(document, num_questions):\n",
    "    questions = []\n",
    "\n",
    "    for _ in range(num_questions):\n",
    "        if len(document.split()) <= 1:\n",
    "            break\n",
    "\n",
    "        text_lengths = [random.randint(1, min(len(document.split()) - 1, 10)) for _ in range(2)]\n",
    "\n",
    "        start_indices = [random.randint(0, len(document.split()) - text_length - 1) for text_length in text_lengths]\n",
    "\n",
    "        input_text = \" \".join([\n",
    "            document.split()[i] if i < start_index or i >= start_index + text_length else \"[HL]\" \n",
    "            for start_index, text_length in zip(start_indices, text_lengths)\n",
    "            for i in range(len(document.split()))\n",
    "        ])\n",
    "        temp = input_text.split()\n",
    "        while \"[HL]\" in temp:\n",
    "          temp.remove(\"[HL]\")\n",
    "        string = \" \".join(temp)\n",
    "        actual_answers.append(string)\n",
    "        input_ids = tokenizer(input_text, return_tensors=\"pt\").input_ids\n",
    "\n",
    "        output = model.generate(input_ids)\n",
    "\n",
    "        generated_question = tokenizer.decode(output[0], skip_special_tokens=True)\n",
    "        questions.append(generated_question)\n",
    "\n",
    "    return questions\n",
    "\n",
    "num_broader_questions = 3\n",
    "num_niche_questions = 2\n",
    "\n",
    "broader_questions = generate_random_questions(document, num_broader_questions)\n",
    "niche_questions = generate_random_questions(document, num_niche_questions)\n",
    "print(actual_answers)\n",
    "\n",
    "\n"
   ]
  }
 ],
 "metadata": {
  "language_info": {
   "name": "python"
  }
 },
 "nbformat": 4,
 "nbformat_minor": 2
}
